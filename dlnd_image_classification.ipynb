{
 "cells": [
  {
   "cell_type": "markdown",
   "metadata": {
    "collapsed": true,
    "deletable": true,
    "editable": true
   },
   "source": [
    "# Image Classification\n",
    "In this project, you'll classify images from the [CIFAR-10 dataset](https://www.cs.toronto.edu/~kriz/cifar.html).  The dataset consists of airplanes, dogs, cats, and other objects. You'll preprocess the images, then train a convolutional neural network on all the samples. The images need to be normalized and the labels need to be one-hot encoded.  You'll get to apply what you learned and build a convolutional, max pooling, dropout, and fully connected layers.  At the end, you'll get to see your neural network's predictions on the sample images.\n",
    "## Get the Data\n",
    "Run the following cell to download the [CIFAR-10 dataset for python](https://www.cs.toronto.edu/~kriz/cifar-10-python.tar.gz)."
   ]
  },
  {
   "cell_type": "code",
   "execution_count": 1,
   "metadata": {
    "collapsed": false,
    "deletable": true,
    "editable": true
   },
   "outputs": [
    {
     "name": "stdout",
     "output_type": "stream",
     "text": [
      "All files found!\n"
     ]
    }
   ],
   "source": [
    "\"\"\"\n",
    "DON'T MODIFY ANYTHING IN THIS CELL THAT IS BELOW THIS LINE\n",
    "\"\"\"\n",
    "from urllib.request import urlretrieve\n",
    "from os.path import isfile, isdir\n",
    "from tqdm import tqdm\n",
    "import problem_unittests as tests\n",
    "import tarfile\n",
    "\n",
    "cifar10_dataset_folder_path = 'cifar-10-batches-py'\n",
    "\n",
    "# Use Floyd's cifar-10 dataset if present\n",
    "floyd_cifar10_location = '/input/cifar-10/python.tar.gz'\n",
    "if isfile(floyd_cifar10_location):\n",
    "    tar_gz_path = floyd_cifar10_location\n",
    "else:\n",
    "    tar_gz_path = 'cifar-10-python.tar.gz'\n",
    "\n",
    "class DLProgress(tqdm):\n",
    "    last_block = 0\n",
    "\n",
    "    def hook(self, block_num=1, block_size=1, total_size=None):\n",
    "        self.total = total_size\n",
    "        self.update((block_num - self.last_block) * block_size)\n",
    "        self.last_block = block_num\n",
    "\n",
    "if not isfile(tar_gz_path):\n",
    "    with DLProgress(unit='B', unit_scale=True, miniters=1, desc='CIFAR-10 Dataset') as pbar:\n",
    "        urlretrieve(\n",
    "            'https://www.cs.toronto.edu/~kriz/cifar-10-python.tar.gz',\n",
    "            tar_gz_path,\n",
    "            pbar.hook)\n",
    "\n",
    "if not isdir(cifar10_dataset_folder_path):\n",
    "    with tarfile.open(tar_gz_path) as tar:\n",
    "        tar.extractall()\n",
    "        tar.close()\n",
    "\n",
    "\n",
    "tests.test_folder_path(cifar10_dataset_folder_path)"
   ]
  },
  {
   "cell_type": "markdown",
   "metadata": {
    "deletable": true,
    "editable": true
   },
   "source": [
    "## Explore the Data\n",
    "The dataset is broken into batches to prevent your machine from running out of memory.  The CIFAR-10 dataset consists of 5 batches, named `data_batch_1`, `data_batch_2`, etc.. Each batch contains the labels and images that are one of the following:\n",
    "* airplane\n",
    "* automobile\n",
    "* bird\n",
    "* cat\n",
    "* deer\n",
    "* dog\n",
    "* frog\n",
    "* horse\n",
    "* ship\n",
    "* truck\n",
    "\n",
    "Understanding a dataset is part of making predictions on the data.  Play around with the code cell below by changing the `batch_id` and `sample_id`. The `batch_id` is the id for a batch (1-5). The `sample_id` is the id for a image and label pair in the batch.\n",
    "\n",
    "Ask yourself \"What are all possible labels?\", \"What is the range of values for the image data?\", \"Are the labels in order or random?\".  Answers to questions like these will help you preprocess the data and end up with better predictions."
   ]
  },
  {
   "cell_type": "code",
   "execution_count": 2,
   "metadata": {
    "collapsed": false,
    "deletable": true,
    "editable": true
   },
   "outputs": [
    {
     "name": "stdout",
     "output_type": "stream",
     "text": [
      "\n",
      "Stats of batch 1:\n",
      "Samples: 10000\n",
      "Label Counts: {0: 1005, 1: 974, 2: 1032, 3: 1016, 4: 999, 5: 937, 6: 1030, 7: 1001, 8: 1025, 9: 981}\n",
      "First 20 Labels: [6, 9, 9, 4, 1, 1, 2, 7, 8, 3, 4, 7, 7, 2, 9, 9, 9, 3, 2, 6]\n",
      "\n",
      "Example of Image 100:\n",
      "Image - Min Value: 30 Max Value: 242\n",
      "Image - Shape: (32, 32, 3)\n",
      "Label - Label Id: 8 Name: ship\n"
     ]
    },
    {
     "data": {
      "image/png": "[encoded data removed]",
      "text/plain": [
       "<matplotlib.figure.Figure at 0x7f61d77e8978>"
      ]
     },
     "metadata": {
      "image/png": {
       "height": 250,
       "width": 253
      }
     },
     "output_type": "display_data"
    }
   ],
   "source": [
    "%matplotlib inline\n",
    "%config InlineBackend.figure_format = 'retina'\n",
    "\n",
    "import helper\n",
    "import numpy as np\n",
    "\n",
    "# Explore the dataset\n",
    "batch_id = 1\n",
    "sample_id = 100\n",
    "helper.display_stats(cifar10_dataset_folder_path, batch_id, sample_id)"
   ]
  },
  {
   "cell_type": "markdown",
   "metadata": {
    "deletable": true,
    "editable": true
   },
   "source": [
    "## Implement Preprocess Functions\n",
    "### Normalize\n",
    "In the cell below, implement the `normalize` function to take in image data, `x`, and return it as a normalized Numpy array. The values should be in the range of 0 to 1, inclusive.  The return object should be the same shape as `x`."
   ]
  },
  {
   "cell_type": "code",
   "execution_count": 3,
   "metadata": {
    "collapsed": false,
    "deletable": true,
    "editable": true
   },
   "outputs": [
    {
     "name": "stdout",
     "output_type": "stream",
     "text": [
      "Tests Passed\n"
     ]
    }
   ],
   "source": [
    "def normalize(x):\n",
    "    \"\"\"\n",
    "    Normalize a list of sample image data in the range of 0 to 1\n",
    "    : x: List of image data.  The image shape is (32, 32, 3)\n",
    "    : return: Numpy array of normalize data\n",
    "    \"\"\"\n",
    "    # TODO: Implement Function\n",
    "    xmin = 0\n",
    "    xmax = 255\n",
    "    a = 0\n",
    "    b = 1\n",
    "    \n",
    "    return a + (b - a) * 1.00 * (x - xmin) / (xmax - xmin)\n",
    "        \n",
    "\n",
    "\n",
    "\"\"\"\n",
    "DON'T MODIFY ANYTHING IN THIS CELL THAT IS BELOW THIS LINE\n",
    "\"\"\"\n",
    "tests.test_normalize(normalize)"
   ]
  },
  {
   "cell_type": "markdown",
   "metadata": {
    "deletable": true,
    "editable": true
   },
   "source": [
    "### One-hot encode\n",
    "Just like the previous code cell, you'll be implementing a function for preprocessing.  This time, you'll implement the `one_hot_encode` function. The input, `x`, are a list of labels.  Implement the function to return the list of labels as One-Hot encoded Numpy array.  The possible values for labels are 0 to 9. The one-hot encoding function should return the same encoding for each value between each call to `one_hot_encode`.  Make sure to save the map of encodings outside the function.\n",
    "\n",
    "Hint: Don't reinvent the wheel."
   ]
  },
  {
   "cell_type": "code",
   "execution_count": 4,
   "metadata": {
    "collapsed": false,
    "deletable": true,
    "editable": true
   },
   "outputs": [
    {
     "name": "stdout",
     "output_type": "stream",
     "text": [
      "Tests Passed\n"
     ]
    }
   ],
   "source": [
    "def one_hot_encode(x):\n",
    "    \"\"\"\n",
    "    One hot encode a list of sample labels. Return a one-hot encoded vector for each label.\n",
    "    : x: List of sample Labels\n",
    "    : return: Numpy array of one-hot encoded labels\n",
    "    \"\"\"\n",
    "    # TODO: Implement Function\n",
    "    res = np.zeros((len(x), 10))\n",
    "    for i in range(len(x)):\n",
    "        res[i, x[i]] = 1\n",
    "        \n",
    "    return res\n",
    "\n",
    "\n",
    "\"\"\"\n",
    "DON'T MODIFY ANYTHING IN THIS CELL THAT IS BELOW THIS LINE\n",
    "\"\"\"\n",
    "tests.test_one_hot_encode(one_hot_encode)"
   ]
  },
  {
   "cell_type": "markdown",
   "metadata": {
    "deletable": true,
    "editable": true
   },
   "source": [
    "### Randomize Data\n",
    "As you saw from exploring the data above, the order of the samples are randomized.  It doesn't hurt to randomize it again, but you don't need to for this dataset."
   ]
  },
  {
   "cell_type": "markdown",
   "metadata": {
    "deletable": true,
    "editable": true
   },
   "source": [
    "## Preprocess all the data and save it\n",
    "Running the code cell below will preprocess all the CIFAR-10 data and save it to file. The code below also uses 10% of the training data for validation."
   ]
  },
  {
   "cell_type": "code",
   "execution_count": 5,
   "metadata": {
    "collapsed": false,
    "deletable": true,
    "editable": true
   },
   "outputs": [],
   "source": [
    "\"\"\"\n",
    "DON'T MODIFY ANYTHING IN THIS CELL\n",
    "\"\"\"\n",
    "# Preprocess Training, Validation, and Testing Data\n",
    "helper.preprocess_and_save_data(cifar10_dataset_folder_path, normalize, one_hot_encode)"
   ]
  },
  {
   "cell_type": "markdown",
   "metadata": {
    "deletable": true,
    "editable": true
   },
   "source": [
    "# Check Point\n",
    "This is your first checkpoint.  If you ever decide to come back to this notebook or have to restart the notebook, you can start from here.  The preprocessed data has been saved to disk."
   ]
  },
  {
   "cell_type": "code",
   "execution_count": 6,
   "metadata": {
    "collapsed": false,
    "deletable": true,
    "editable": true
   },
   "outputs": [],
   "source": [
    "\"\"\"\n",
    "DON'T MODIFY ANYTHING IN THIS CELL\n",
    "\"\"\"\n",
    "import pickle\n",
    "import problem_unittests as tests\n",
    "import helper\n",
    "\n",
    "# Load the Preprocessed Validation data\n",
    "valid_features, valid_labels = pickle.load(open('preprocess_validation.p', mode='rb'))"
   ]
  },
  {
   "cell_type": "markdown",
   "metadata": {
    "deletable": true,
    "editable": true
   },
   "source": [
    "## Build the network\n",
    "For the neural network, you'll build each layer into a function.  Most of the code you've seen has been outside of functions. To test your code more thoroughly, we require that you put each layer in a function.  This allows us to give you better feedback and test for simple mistakes using our unittests before you submit your project.\n",
    "\n",
    ">**Note:** If you're finding it hard to dedicate enough time for this course each week, we've provided a small shortcut to this part of the project. In the next couple of problems, you'll have the option to use classes from the [TensorFlow Layers](https://www.tensorflow.org/api_docs/python/tf/layers) or [TensorFlow Layers (contrib)](https://www.tensorflow.org/api_guides/python/contrib.layers) packages to build each layer, except the layers you build in the \"Convolutional and Max Pooling Layer\" section.  TF Layers is similar to Keras's and TFLearn's abstraction to layers, so it's easy to pickup.\n",
    "\n",
    ">However, if you would like to get the most out of this course, try to solve all the problems _without_ using anything from the TF Layers packages. You **can** still use classes from other packages that happen to have the same name as ones you find in TF Layers! For example, instead of using the TF Layers version of the `conv2d` class, [tf.layers.conv2d](https://www.tensorflow.org/api_docs/python/tf/layers/conv2d), you would want to use the TF Neural Network version of `conv2d`, [tf.nn.conv2d](https://www.tensorflow.org/api_docs/python/tf/nn/conv2d). \n",
    "\n",
    "Let's begin!\n",
    "\n",
    "### Input\n",
    "The neural network needs to read the image data, one-hot encoded labels, and dropout keep probability. Implement the following functions\n",
    "* Implement `neural_net_image_input`\n",
    " * Return a [TF Placeholder](https://www.tensorflow.org/api_docs/python/tf/placeholder)\n",
    " * Set the shape using `image_shape` with batch size set to `None`.\n",
    " * Name the TensorFlow placeholder \"x\" using the TensorFlow `name` parameter in the [TF Placeholder](https://www.tensorflow.org/api_docs/python/tf/placeholder).\n",
    "* Implement `neural_net_label_input`\n",
    " * Return a [TF Placeholder](https://www.tensorflow.org/api_docs/python/tf/placeholder)\n",
    " * Set the shape using `n_classes` with batch size set to `None`.\n",
    " * Name the TensorFlow placeholder \"y\" using the TensorFlow `name` parameter in the [TF Placeholder](https://www.tensorflow.org/api_docs/python/tf/placeholder).\n",
    "* Implement `neural_net_keep_prob_input`\n",
    " * Return a [TF Placeholder](https://www.tensorflow.org/api_docs/python/tf/placeholder) for dropout keep probability.\n",
    " * Name the TensorFlow placeholder \"keep_prob\" using the TensorFlow `name` parameter in the [TF Placeholder](https://www.tensorflow.org/api_docs/python/tf/placeholder).\n",
    "\n",
    "These names will be used at the end of the project to load your saved model.\n",
    "\n",
    "Note: `None` for shapes in TensorFlow allow for a dynamic size."
   ]
  },
  {
   "cell_type": "code",
   "execution_count": 7,
   "metadata": {
    "collapsed": false,
    "deletable": true,
    "editable": true
   },
   "outputs": [
    {
     "name": "stdout",
     "output_type": "stream",
     "text": [
      "Image Input Tests Passed.\n",
      "Label Input Tests Passed.\n",
      "Keep Prob Tests Passed.\n"
     ]
    }
   ],
   "source": [
    "import tensorflow as tf\n",
    "\n",
    "\n",
    "def neural_net_image_input(image_shape):\n",
    "    \"\"\"\n",
    "    Return a Tensor for a bach of image input\n",
    "    : image_shape: Shape of the images\n",
    "    : return: Tensor for image input.\n",
    "    \"\"\"\n",
    "    # TODO: Implement Function\n",
    "    shape = list()\n",
    "    shape.append(None)\n",
    "    for i in image_shape:\n",
    "        shape.append(i)\n",
    "    return tf.placeholder(tf.float32, shape = shape, name = \"x\")\n",
    "\n",
    "\n",
    "def neural_net_label_input(n_classes):\n",
    "    \"\"\"\n",
    "    Return a Tensor for a batch of label input\n",
    "    : n_classes: Number of classes\n",
    "    : return: Tensor for label input.\n",
    "    \"\"\"\n",
    "    # TODO: Implement Function\n",
    "    return tf.placeholder(tf.float32, shape = [None, n_classes], name = \"y\")\n",
    "\n",
    "\n",
    "def neural_net_keep_prob_input():\n",
    "    \"\"\"\n",
    "    Return a Tensor for keep probability\n",
    "    : return: Tensor for keep probability.\n",
    "    \"\"\"\n",
    "    # TODO: Implement Function\n",
    "    return tf.placeholder(tf.float32, name = \"keep_prob\")\n",
    "\n",
    "\n",
    "\"\"\"\n",
    "DON'T MODIFY ANYTHING IN THIS CELL THAT IS BELOW THIS LINE\n",
    "\"\"\"\n",
    "tf.reset_default_graph()\n",
    "tests.test_nn_image_inputs(neural_net_image_input)\n",
    "tests.test_nn_label_inputs(neural_net_label_input)\n",
    "tests.test_nn_keep_prob_inputs(neural_net_keep_prob_input)"
   ]
  },
  {
   "cell_type": "markdown",
   "metadata": {
    "deletable": true,
    "editable": true
   },
   "source": [
    "### Convolution and Max Pooling Layer\n",
    "Convolution layers have a lot of success with images. For this code cell, you should implement the function `conv2d_maxpool` to apply convolution then max pooling:\n",
    "* Create the weight and bias using `conv_ksize`, `conv_num_outputs` and the shape of `x_tensor`.\n",
    "* Apply a convolution to `x_tensor` using weight and `conv_strides`.\n",
    " * We recommend you use same padding, but you're welcome to use any padding.\n",
    "* Add bias\n",
    "* Add a nonlinear activation to the convolution.\n",
    "* Apply Max Pooling using `pool_ksize` and `pool_strides`.\n",
    " * We recommend you use same padding, but you're welcome to use any padding.\n",
    "\n",
    "**Note:** You **can't** use [TensorFlow Layers](https://www.tensorflow.org/api_docs/python/tf/layers) or [TensorFlow Layers (contrib)](https://www.tensorflow.org/api_guides/python/contrib.layers) for **this** layer, but you can still use TensorFlow's [Neural Network](https://www.tensorflow.org/api_docs/python/tf/nn) package. You may still use the shortcut option for all the **other** layers."
   ]
  },
  {
   "cell_type": "code",
   "execution_count": 8,
   "metadata": {
    "collapsed": false,
    "deletable": true,
    "editable": true
   },
   "outputs": [
    {
     "name": "stdout",
     "output_type": "stream",
     "text": [
      "Tests Passed\n"
     ]
    }
   ],
   "source": [
    "def conv2d_maxpool(x_tensor, conv_num_outputs, conv_ksize, conv_strides, pool_ksize, pool_strides):\n",
    "    \"\"\"\n",
    "    Apply convolution then max pooling to x_tensor\n",
    "    :param x_tensor: TensorFlow Tensor\n",
    "    :param conv_num_outputs: Number of outputs for the convolutional layer\n",
    "    :param conv_ksize: kernal size 2-D Tuple for the convolutional layer\n",
    "    :param conv_strides: Stride 2-D Tuple for convolution\n",
    "    :param pool_ksize: kernal size 2-D Tuple for pool\n",
    "    :param pool_strides: Stride 2-D Tuple for pool\n",
    "    : return: A tensor that represents convolution and max pooling of x_tensor\n",
    "    \"\"\"\n",
    "    # TODO: Implement Function\n",
    "    \n",
    "    ##create weight\n",
    "    x_shape = x_tensor.get_shape().as_list()\n",
    "    \n",
    "    conv_initial_var = 1\n",
    "    w_conv_shape = list()\n",
    "    \n",
    "    for c in conv_ksize:\n",
    "        w_conv_shape.append(c)\n",
    "        conv_initial_var *= c\n",
    "        \n",
    "    w_conv_shape.append(x_shape[len(x_shape) - 1])\n",
    "    conv_initial_var *= x_shape[len(x_shape) - 1]\n",
    "    w_conv_shape.append(conv_num_outputs)\n",
    "    conv_initial_var *= conv_num_outputs\n",
    "    \n",
    "    W_conv = tf.Variable(dtype = tf.float32, initial_value=\n",
    "                         tf.truncated_normal(shape=w_conv_shape, stddev=np.sqrt(1.00/conv_initial_var)))\n",
    "    \n",
    "    ##create bias\n",
    "    b_conv = tf.Variable(dtype = tf.float32, initial_value = tf.zeros(shape=conv_num_outputs))\n",
    "    \n",
    "    ##conv strides\n",
    "    strides_conv = list()\n",
    "    strides_conv.append(1)\n",
    "    for s in conv_strides:\n",
    "        strides_conv.append(s)\n",
    "    strides_conv.append(1)\n",
    "    \n",
    "    ##apply convolution\n",
    "    conv = tf.nn.conv2d(x_tensor, filter=W_conv, strides = strides_conv, padding='SAME')\n",
    "    \n",
    "    ##add bias\n",
    "    conv = tf.add(conv, b_conv)\n",
    "    \n",
    "    ##add non-linear activation\n",
    "    conv = tf.nn.relu(conv)\n",
    "    \n",
    "    ##max_pooling window size and strides\n",
    "    size_pool = list()\n",
    "    size_pool.append(1)\n",
    "    for s in pool_ksize:\n",
    "        size_pool.append(s)\n",
    "    size_pool.append(1)\n",
    "    \n",
    "    strides_pool = list()\n",
    "    strides_pool.append(1)\n",
    "    for s in pool_strides:\n",
    "        strides_pool.append(s)\n",
    "    strides_pool.append(1)\n",
    "    \n",
    "    ##add max pooling layer\n",
    "    \n",
    "    conv = tf.nn.max_pool(conv, ksize=size_pool, strides=strides_pool, padding='SAME')\n",
    "    \n",
    "    return conv\n",
    "\"\"\"\n",
    "DON'T MODIFY ANYTHING IN THIS CELL THAT IS BELOW THIS LINE\n",
    "\"\"\"\n",
    "tests.test_con_pool(conv2d_maxpool)"
   ]
  },
  {
   "cell_type": "markdown",
   "metadata": {
    "deletable": true,
    "editable": true
   },
   "source": [
    "### Flatten Layer\n",
    "Implement the `flatten` function to change the dimension of `x_tensor` from a 4-D tensor to a 2-D tensor.  The output should be the shape (*Batch Size*, *Flattened Image Size*). Shortcut option: you can use classes from the [TensorFlow Layers](https://www.tensorflow.org/api_docs/python/tf/layers) or [TensorFlow Layers (contrib)](https://www.tensorflow.org/api_guides/python/contrib.layers) packages for this layer. For more of a challenge, only use other TensorFlow packages."
   ]
  },
  {
   "cell_type": "code",
   "execution_count": 9,
   "metadata": {
    "collapsed": false,
    "deletable": true,
    "editable": true
   },
   "outputs": [
    {
     "name": "stdout",
     "output_type": "stream",
     "text": [
      "Tests Passed\n"
     ]
    }
   ],
   "source": [
    "def flatten(x_tensor):\n",
    "    \"\"\"\n",
    "    Flatten x_tensor to (Batch Size, Flattened Image Size)\n",
    "    : x_tensor: A tensor of size (Batch Size, ...), where ... are the image dimensions.\n",
    "    : return: A tensor of size (Batch Size, Flattened Image Size).\n",
    "    \"\"\"\n",
    "    # TODO: Implement Function\n",
    "    x_shape = x_tensor.get_shape().as_list()\n",
    "    return tf.reshape(x_tensor, shape = [-1, x_shape[1] * x_shape[2] * x_shape[3]])\n",
    "    \n",
    "\n",
    "\n",
    "\"\"\"\n",
    "DON'T MODIFY ANYTHING IN THIS CELL THAT IS BELOW THIS LINE\n",
    "\"\"\"\n",
    "tests.test_flatten(flatten)"
   ]
  },
  {
   "cell_type": "markdown",
   "metadata": {
    "deletable": true,
    "editable": true
   },
   "source": [
    "### Fully-Connected Layer\n",
    "Implement the `fully_conn` function to apply a fully connected layer to `x_tensor` with the shape (*Batch Size*, *num_outputs*). Shortcut option: you can use classes from the [TensorFlow Layers](https://www.tensorflow.org/api_docs/python/tf/layers) or [TensorFlow Layers (contrib)](https://www.tensorflow.org/api_guides/python/contrib.layers) packages for this layer. For more of a challenge, only use other TensorFlow packages."
   ]
  },
  {
   "cell_type": "code",
   "execution_count": 10,
   "metadata": {
    "collapsed": false,
    "deletable": true,
    "editable": true
   },
   "outputs": [
    {
     "name": "stdout",
     "output_type": "stream",
     "text": [
      "Tests Passed\n"
     ]
    }
   ],
   "source": [
    "def fully_conn(x_tensor, num_outputs):\n",
    "    \"\"\"\n",
    "    Apply a fully connected layer to x_tensor using weight and bias\n",
    "    : x_tensor: A 2-D tensor where the first dimension is batch size.\n",
    "    : num_outputs: The number of output that the new tensor should be.\n",
    "    : return: A 2-D tensor where the second dimension is num_outputs.\n",
    "    \"\"\"\n",
    "    # TODO: Implement Function\n",
    "    W_full = tf.Variable(dtype=tf.float32, \n",
    "            initial_value=tf.truncated_normal(stddev=np.sqrt(1.00 / (x_tensor.get_shape().as_list()[1] * num_outputs)), \n",
    "                                              shape=(x_tensor.get_shape().as_list()[1], num_outputs)))\n",
    "    b_full = tf.Variable(dtype = tf.float32, initial_value=tf.zeros(num_outputs))\n",
    "    \n",
    "    return tf.add(tf.matmul(x_tensor, W_full), b_full)\n",
    "\n",
    "\"\"\"\n",
    "DON'T MODIFY ANYTHING IN THIS CELL THAT IS BELOW THIS LINE\n",
    "\"\"\"\n",
    "tests.test_fully_conn(fully_conn)"
   ]
  },
  {
   "cell_type": "markdown",
   "metadata": {
    "deletable": true,
    "editable": true
   },
   "source": [
    "### Output Layer\n",
    "Implement the `output` function to apply a fully connected layer to `x_tensor` with the shape (*Batch Size*, *num_outputs*). Shortcut option: you can use classes from the [TensorFlow Layers](https://www.tensorflow.org/api_docs/python/tf/layers) or [TensorFlow Layers (contrib)](https://www.tensorflow.org/api_guides/python/contrib.layers) packages for this layer. For more of a challenge, only use other TensorFlow packages.\n",
    "\n",
    "**Note:** Activation, softmax, or cross entropy should **not** be applied to this."
   ]
  },
  {
   "cell_type": "code",
   "execution_count": 11,
   "metadata": {
    "collapsed": false,
    "deletable": true,
    "editable": true
   },
   "outputs": [
    {
     "name": "stdout",
     "output_type": "stream",
     "text": [
      "Tests Passed\n"
     ]
    }
   ],
   "source": [
    "def output(x_tensor, num_outputs):\n",
    "    \"\"\"\n",
    "    Apply a output layer to x_tensor using weight and bias\n",
    "    : x_tensor: A 2-D tensor where the first dimension is batch size.\n",
    "    : num_outputs: The number of output that the new tensor should be.\n",
    "    : return: A 2-D tensor where the second dimension is num_outputs.\n",
    "    \"\"\"\n",
    "    # TODO: Implement Function\n",
    "    W_out = tf.Variable(dtype=tf.float32, \n",
    "            initial_value=tf.truncated_normal(stddev=np.sqrt(1.00 / (x_tensor.get_shape().as_list()[1] * num_outputs)), \n",
    "                                              shape=(x_tensor.get_shape().as_list()[1], num_outputs)))\n",
    "    b_out = tf.Variable(dtype = tf.float32, initial_value=tf.zeros(num_outputs))\n",
    "    \n",
    "    return tf.add(tf.matmul(x_tensor, W_out), b_out)\n",
    "\n",
    "\n",
    "\"\"\"\n",
    "DON'T MODIFY ANYTHING IN THIS CELL THAT IS BELOW THIS LINE\n",
    "\"\"\"\n",
    "tests.test_output(output)"
   ]
  },
  {
   "cell_type": "markdown",
   "metadata": {
    "deletable": true,
    "editable": true
   },
   "source": [
    "### Create Convolutional Model\n",
    "Implement the function `conv_net` to create a convolutional neural network model. The function takes in a batch of images, `x`, and outputs logits.  Use the layers you created above to create this model:\n",
    "\n",
    "* Apply 1, 2, or 3 Convolution and Max Pool layers\n",
    "* Apply a Flatten Layer\n",
    "* Apply 1, 2, or 3 Fully Connected Layers\n",
    "* Apply an Output Layer\n",
    "* Return the output\n",
    "* Apply [TensorFlow's Dropout](https://www.tensorflow.org/api_docs/python/tf/nn/dropout) to one or more layers in the model using `keep_prob`. "
   ]
  },
  {
   "cell_type": "code",
   "execution_count": 17,
   "metadata": {
    "collapsed": false,
    "deletable": true,
    "editable": true
   },
   "outputs": [
    {
     "name": "stdout",
     "output_type": "stream",
     "text": [
      "Neural Network Built!\n"
     ]
    }
   ],
   "source": [
    "def conv_net(x, keep_prob):\n",
    "    \"\"\"\n",
    "    Create a convolutional neural network model\n",
    "    : x: Placeholder tensor that holds image data.\n",
    "    : keep_prob: Placeholder tensor that hold dropout keep probability.\n",
    "    : return: Tensor that represents logits\n",
    "    \"\"\"\n",
    "    # TODO: Apply 1, 2, or 3 Convolution and Max Pool layers\n",
    "    #    Play around with different number of outputs, kernel size and stride\n",
    "    # Function Definition from Above:\n",
    "    conv = conv2d_maxpool(x, conv_num_outputs=128, conv_ksize=(2,2), conv_strides=(1,1), pool_ksize=(1,1), pool_strides=(1,1))\n",
    "    conv = conv2d_maxpool(conv, conv_num_outputs=64, conv_ksize=(4,4), conv_strides=(2,2), pool_ksize=(2,2), pool_strides=(2,2))\n",
    "\n",
    "    \n",
    "    # TODO: Apply a Flatten Layer\n",
    "    # Function Definition from Above:\n",
    "    conv_output = flatten(conv)\n",
    "    \n",
    "    #add dropout to convolution layer output\n",
    "    conv_output = tf.nn.dropout(conv_output, keep_prob)\n",
    "\n",
    "    # TODO: Apply 1, 2, or 3 Fully Connected Layers\n",
    "    #    Play around with different number of outputs\n",
    "    # Function Definition from Above:\n",
    "    full = fully_conn(conv_output, num_outputs = 256)\n",
    "    full_output = fully_conn(full, num_outputs = 128)\n",
    "    \n",
    "    #add dropout to fully connected layer\n",
    "    full_output = tf.nn.dropout(full_output, keep_prob)\n",
    "    \n",
    "    # TODO: Apply an Output Layer\n",
    "    #    Set this to the number of classes\n",
    "    # Function Definition from Above:\n",
    "    model_output = output(full_output, num_outputs = 10)\n",
    "    \n",
    "    \n",
    "    # TODO: return output\n",
    "    return model_output\n",
    "\n",
    "\n",
    "\"\"\"\n",
    "DON'T MODIFY ANYTHING IN THIS CELL THAT IS BELOW THIS LINE\n",
    "\"\"\"\n",
    "\n",
    "##############################\n",
    "## Build the Neural Network ##\n",
    "##############################\n",
    "\n",
    "# Remove previous weights, bias, inputs, etc..\n",
    "tf.reset_default_graph()\n",
    "\n",
    "# Inputs\n",
    "x = neural_net_image_input((32, 32, 3))\n",
    "y = neural_net_label_input(10)\n",
    "keep_prob = neural_net_keep_prob_input()\n",
    "\n",
    "# Model\n",
    "logits = conv_net(x, keep_prob)\n",
    "\n",
    "# Name logits Tensor, so that is can be loaded from disk after training\n",
    "logits = tf.identity(logits, name='logits')\n",
    "\n",
    "# Loss and Optimizer\n",
    "cost = tf.reduce_mean(tf.nn.softmax_cross_entropy_with_logits(logits=logits, labels=y))\n",
    "optimizer = tf.train.AdamOptimizer().minimize(cost)\n",
    "\n",
    "# Accuracy\n",
    "correct_pred = tf.equal(tf.argmax(logits, 1), tf.argmax(y, 1))\n",
    "accuracy = tf.reduce_mean(tf.cast(correct_pred, tf.float32), name='accuracy')\n",
    "\n",
    "tests.test_conv_net(conv_net)"
   ]
  },
  {
   "cell_type": "markdown",
   "metadata": {
    "deletable": true,
    "editable": true
   },
   "source": [
    "## Train the Neural Network\n",
    "### Single Optimization\n",
    "Implement the function `train_neural_network` to do a single optimization.  The optimization should use `optimizer` to optimize in `session` with a `feed_dict` of the following:\n",
    "* `x` for image input\n",
    "* `y` for labels\n",
    "* `keep_prob` for keep probability for dropout\n",
    "\n",
    "This function will be called for each batch, so `tf.global_variables_initializer()` has already been called.\n",
    "\n",
    "Note: Nothing needs to be returned. This function is only optimizing the neural network."
   ]
  },
  {
   "cell_type": "code",
   "execution_count": 13,
   "metadata": {
    "collapsed": false,
    "deletable": true,
    "editable": true
   },
   "outputs": [
    {
     "name": "stdout",
     "output_type": "stream",
     "text": [
      "Tests Passed\n"
     ]
    }
   ],
   "source": [
    "def train_neural_network(session, optimizer, keep_probability, feature_batch, label_batch):\n",
    "    \"\"\"\n",
    "    Optimize the session on a batch of images and labels\n",
    "    : session: Current TensorFlow session\n",
    "    : optimizer: TensorFlow optimizer function\n",
    "    : keep_probability: keep probability\n",
    "    : feature_batch: Batch of Numpy image data\n",
    "    : label_batch: Batch of Numpy label data\n",
    "    \"\"\"\n",
    "    # TODO: Implement Function\n",
    "    session.run(optimizer, feed_dict = {x: feature_batch, y: label_batch, keep_prob: keep_probability})\n",
    "\n",
    "\n",
    "\"\"\"\n",
    "DON'T MODIFY ANYTHING IN THIS CELL THAT IS BELOW THIS LINE\n",
    "\"\"\"\n",
    "tests.test_train_nn(train_neural_network)"
   ]
  },
  {
   "cell_type": "markdown",
   "metadata": {
    "deletable": true,
    "editable": true
   },
   "source": [
    "### Show Stats\n",
    "Implement the function `print_stats` to print loss and validation accuracy.  Use the global variables `valid_features` and `valid_labels` to calculate validation accuracy.  Use a keep probability of `1.0` to calculate the loss and validation accuracy."
   ]
  },
  {
   "cell_type": "code",
   "execution_count": 14,
   "metadata": {
    "collapsed": false,
    "deletable": true,
    "editable": true
   },
   "outputs": [],
   "source": [
    "def print_stats(session, feature_batch, label_batch, cost, accuracy):\n",
    "    \"\"\"\n",
    "    Print information about loss and validation accuracy\n",
    "    : session: Current TensorFlow session\n",
    "    : feature_batch: Batch of Numpy image data\n",
    "    : label_batch: Batch of Numpy label data\n",
    "    : cost: TensorFlow cost function\n",
    "    : accuracy: TensorFlow accuracy function\n",
    "    \"\"\"\n",
    "    # TODO: Implement Function\n",
    "    print('cost: {0}, accuracy: {1}'.format(session.run(cost, feed_dict = {x: feature_batch, y: label_batch, keep_prob: 1.00}), \n",
    "          session.run(accuracy, feed_dict = {x: valid_features, y: valid_labels, keep_prob: 1.00})))"
   ]
  },
  {
   "cell_type": "markdown",
   "metadata": {
    "deletable": true,
    "editable": true
   },
   "source": [
    "### Hyperparameters\n",
    "Tune the following parameters:\n",
    "* Set `epochs` to the number of iterations until the network stops learning or start overfitting\n",
    "* Set `batch_size` to the highest number that your machine has memory for.  Most people set them to common sizes of memory:\n",
    " * 64\n",
    " * 128\n",
    " * 256\n",
    " * ...\n",
    "* Set `keep_probability` to the probability of keeping a node using dropout"
   ]
  },
  {
   "cell_type": "code",
   "execution_count": 21,
   "metadata": {
    "collapsed": true,
    "deletable": true,
    "editable": true
   },
   "outputs": [],
   "source": [
    "# TODO: Tune Parameters\n",
    "epochs = 60\n",
    "batch_size = 128\n",
    "keep_probability = 0.5"
   ]
  },
  {
   "cell_type": "markdown",
   "metadata": {
    "deletable": true,
    "editable": true
   },
   "source": [
    "### Train on a Single CIFAR-10 Batch\n",
    "Instead of training the neural network on all the CIFAR-10 batches of data, let's use a single batch. This should save time while you iterate on the model to get a better accuracy.  Once the final validation accuracy is 50% or greater, run the model on all the data in the next section."
   ]
  },
  {
   "cell_type": "code",
   "execution_count": 22,
   "metadata": {
    "collapsed": false,
    "deletable": true,
    "editable": true
   },
   "outputs": [
    {
     "name": "stdout",
     "output_type": "stream",
     "text": [
      "Checking the Training on a Single Batch...\n",
      "Epoch  1, CIFAR-10 Batch 1:  cost: 2.222423791885376, accuracy: 0.2489999681711197\n",
      "Epoch  2, CIFAR-10 Batch 1:  cost: 2.1227760314941406, accuracy: 0.3357999920845032\n",
      "Epoch  3, CIFAR-10 Batch 1:  cost: 1.9484586715698242, accuracy: 0.3707999885082245\n",
      "Epoch  4, CIFAR-10 Batch 1:  cost: 1.7862740755081177, accuracy: 0.3993999660015106\n",
      "Epoch  5, CIFAR-10 Batch 1:  cost: 1.6819944381713867, accuracy: 0.4528000056743622\n",
      "Epoch  6, CIFAR-10 Batch 1:  cost: 1.5674484968185425, accuracy: 0.46480000019073486\n",
      "Epoch  7, CIFAR-10 Batch 1:  cost: 1.5246247053146362, accuracy: 0.4753999710083008\n",
      "Epoch  8, CIFAR-10 Batch 1:  cost: 1.4182865619659424, accuracy: 0.4941999018192291\n",
      "Epoch  9, CIFAR-10 Batch 1:  cost: 1.4122154712677002, accuracy: 0.500999927520752\n",
      "Epoch 10, CIFAR-10 Batch 1:  cost: 1.397925615310669, accuracy: 0.5113999843597412\n",
      "Epoch 11, CIFAR-10 Batch 1:  cost: 1.2868868112564087, accuracy: 0.49279993772506714\n",
      "Epoch 12, CIFAR-10 Batch 1:  cost: 1.1884727478027344, accuracy: 0.5077999830245972\n",
      "Epoch 13, CIFAR-10 Batch 1:  cost: 1.1246638298034668, accuracy: 0.5203999876976013\n",
      "Epoch 14, CIFAR-10 Batch 1:  cost: 1.042568325996399, accuracy: 0.5423999428749084\n",
      "Epoch 15, CIFAR-10 Batch 1:  cost: 1.0598024129867554, accuracy: 0.5451999306678772\n",
      "Epoch 16, CIFAR-10 Batch 1:  cost: 0.9193435311317444, accuracy: 0.55159991979599\n",
      "Epoch 17, CIFAR-10 Batch 1:  cost: 0.9262704253196716, accuracy: 0.556999921798706\n",
      "Epoch 18, CIFAR-10 Batch 1:  cost: 0.8955795764923096, accuracy: 0.5649999380111694\n",
      "Epoch 19, CIFAR-10 Batch 1:  cost: 0.8246105909347534, accuracy: 0.5689998865127563\n",
      "Epoch 20, CIFAR-10 Batch 1:  cost: 0.8428041934967041, accuracy: 0.571199893951416\n",
      "Epoch 21, CIFAR-10 Batch 1:  cost: 0.7930948138237, accuracy: 0.5757999420166016\n",
      "Epoch 22, CIFAR-10 Batch 1:  cost: 0.7797861695289612, accuracy: 0.5753999352455139\n",
      "Epoch 23, CIFAR-10 Batch 1:  cost: 0.6947273015975952, accuracy: 0.5875999331474304\n",
      "Epoch 24, CIFAR-10 Batch 1:  cost: 0.6707876920700073, accuracy: 0.5889999270439148\n",
      "Epoch 25, CIFAR-10 Batch 1:  cost: 0.6353863477706909, accuracy: 0.5853999853134155\n",
      "Epoch 26, CIFAR-10 Batch 1:  cost: 0.5948845148086548, accuracy: 0.6025999188423157\n",
      "Epoch 27, CIFAR-10 Batch 1:  cost: 0.5677323341369629, accuracy: 0.6111998558044434\n",
      "Epoch 28, CIFAR-10 Batch 1:  cost: 0.5775658488273621, accuracy: 0.6033998727798462\n",
      "Epoch 29, CIFAR-10 Batch 1:  cost: 0.5159070491790771, accuracy: 0.6069998741149902\n",
      "Epoch 30, CIFAR-10 Batch 1:  cost: 0.49066677689552307, accuracy: 0.609799861907959\n",
      "Epoch 31, CIFAR-10 Batch 1:  cost: 0.4905772805213928, accuracy: 0.6101999282836914\n",
      "Epoch 32, CIFAR-10 Batch 1:  cost: 0.4106158912181854, accuracy: 0.6193999648094177\n",
      "Epoch 33, CIFAR-10 Batch 1:  cost: 0.40611732006073, accuracy: 0.616399884223938\n",
      "Epoch 34, CIFAR-10 Batch 1:  cost: 0.4180430769920349, accuracy: 0.618399977684021\n",
      "Epoch 35, CIFAR-10 Batch 1:  cost: 0.3661004602909088, accuracy: 0.6179999113082886\n",
      "Epoch 36, CIFAR-10 Batch 1:  cost: 0.38556918501853943, accuracy: 0.6155999302864075\n",
      "Epoch 37, CIFAR-10 Batch 1:  cost: 0.3821486234664917, accuracy: 0.6151999235153198\n",
      "Epoch 38, CIFAR-10 Batch 1:  cost: 0.3535088002681732, accuracy: 0.6187999248504639\n",
      "Epoch 39, CIFAR-10 Batch 1:  cost: 0.3716818392276764, accuracy: 0.6181998252868652\n",
      "Epoch 40, CIFAR-10 Batch 1:  cost: 0.3947179615497589, accuracy: 0.6107999086380005\n",
      "Epoch 41, CIFAR-10 Batch 1:  cost: 0.3764314651489258, accuracy: 0.6017999053001404\n",
      "Epoch 42, CIFAR-10 Batch 1:  cost: 0.33713120222091675, accuracy: 0.616399884223938\n",
      "Epoch 43, CIFAR-10 Batch 1:  cost: 0.3518308401107788, accuracy: 0.6325998902320862\n",
      "Epoch 44, CIFAR-10 Batch 1:  cost: 0.37715309858322144, accuracy: 0.6185998916625977\n",
      "Epoch 45, CIFAR-10 Batch 1:  cost: 0.29193904995918274, accuracy: 0.6291998624801636\n",
      "Epoch 46, CIFAR-10 Batch 1:  cost: 0.3371798098087311, accuracy: 0.6199999451637268\n",
      "Epoch 47, CIFAR-10 Batch 1:  cost: 0.28988465666770935, accuracy: 0.6255999207496643\n",
      "Epoch 48, CIFAR-10 Batch 1:  cost: 0.2995493710041046, accuracy: 0.6067999601364136\n",
      "Epoch 49, CIFAR-10 Batch 1:  cost: 0.3097530007362366, accuracy: 0.6055999398231506\n",
      "Epoch 50, CIFAR-10 Batch 1:  cost: 0.28609365224838257, accuracy: 0.6179999113082886\n",
      "Epoch 51, CIFAR-10 Batch 1:  cost: 0.3020848333835602, accuracy: 0.6185998916625977\n",
      "Epoch 52, CIFAR-10 Batch 1:  cost: 0.2430897206068039, accuracy: 0.6255999207496643\n",
      "Epoch 53, CIFAR-10 Batch 1:  cost: 0.2547174394130707, accuracy: 0.6209999322891235\n",
      "Epoch 54, CIFAR-10 Batch 1:  cost: 0.25534388422966003, accuracy: 0.6155999302864075\n",
      "Epoch 55, CIFAR-10 Batch 1:  cost: 0.24811118841171265, accuracy: 0.6299998760223389\n",
      "Epoch 56, CIFAR-10 Batch 1:  cost: 0.21548736095428467, accuracy: 0.6339998841285706\n",
      "Epoch 57, CIFAR-10 Batch 1:  cost: 0.2070671021938324, accuracy: 0.6201999187469482\n",
      "Epoch 58, CIFAR-10 Batch 1:  cost: 0.20005768537521362, accuracy: 0.6251999735832214\n",
      "Epoch 59, CIFAR-10 Batch 1:  cost: 0.2290365844964981, accuracy: 0.6095999479293823\n",
      "Epoch 60, CIFAR-10 Batch 1:  cost: 0.23757623136043549, accuracy: 0.6221998929977417\n"
     ]
    }
   ],
   "source": [
    "\"\"\"\n",
    "DON'T MODIFY ANYTHING IN THIS CELL\n",
    "\"\"\"\n",
    "print('Checking the Training on a Single Batch...')\n",
    "with tf.Session() as sess:\n",
    "    # Initializing the variables\n",
    "    sess.run(tf.global_variables_initializer())\n",
    "    \n",
    "    # Training cycle\n",
    "    for epoch in range(epochs):\n",
    "        batch_i = 1\n",
    "        for batch_features, batch_labels in helper.load_preprocess_training_batch(batch_i, batch_size):\n",
    "            train_neural_network(sess, optimizer, keep_probability, batch_features, batch_labels)\n",
    "        print('Epoch {:>2}, CIFAR-10 Batch {}:  '.format(epoch + 1, batch_i), end='')\n",
    "        print_stats(sess, batch_features, batch_labels, cost, accuracy)"
   ]
  },
  {
   "cell_type": "markdown",
   "metadata": {
    "deletable": true,
    "editable": true
   },
   "source": [
    "### Fully Train the Model\n",
    "Now that you got a good accuracy with a single CIFAR-10 batch, try it with all five batches."
   ]
  },
  {
   "cell_type": "code",
   "execution_count": 23,
   "metadata": {
    "collapsed": false,
    "deletable": true,
    "editable": true
   },
   "outputs": [
    {
     "name": "stdout",
     "output_type": "stream",
     "text": [
      "Training...\n",
      "Epoch  1, CIFAR-10 Batch 1:  cost: 2.2645201683044434, accuracy: 0.26899999380111694\n",
      "Epoch  1, CIFAR-10 Batch 2:  cost: 1.9046229124069214, accuracy: 0.3456000089645386\n",
      "Epoch  1, CIFAR-10 Batch 3:  cost: 1.6113252639770508, accuracy: 0.38339999318122864\n",
      "Epoch  1, CIFAR-10 Batch 4:  cost: 1.5695843696594238, accuracy: 0.3977999687194824\n",
      "Epoch  1, CIFAR-10 Batch 5:  cost: 1.561508297920227, accuracy: 0.44019994139671326\n",
      "Epoch  2, CIFAR-10 Batch 1:  cost: 1.696388602256775, accuracy: 0.4411999583244324\n",
      "Epoch  2, CIFAR-10 Batch 2:  cost: 1.3736484050750732, accuracy: 0.4617999494075775\n",
      "Epoch  2, CIFAR-10 Batch 3:  cost: 1.1908812522888184, accuracy: 0.46879997849464417\n",
      "Epoch  2, CIFAR-10 Batch 4:  cost: 1.43721342086792, accuracy: 0.4957999587059021\n",
      "Epoch  2, CIFAR-10 Batch 5:  cost: 1.4537286758422852, accuracy: 0.5065999031066895\n",
      "Epoch  3, CIFAR-10 Batch 1:  cost: 1.4971320629119873, accuracy: 0.5265999436378479\n",
      "Epoch  3, CIFAR-10 Batch 2:  cost: 1.15827476978302, accuracy: 0.5189999341964722\n",
      "Epoch  3, CIFAR-10 Batch 3:  cost: 1.078979730606079, accuracy: 0.5171999335289001\n",
      "Epoch  3, CIFAR-10 Batch 4:  cost: 1.267726182937622, accuracy: 0.5343999266624451\n",
      "Epoch  3, CIFAR-10 Batch 5:  cost: 1.3156194686889648, accuracy: 0.5359998941421509\n",
      "Epoch  4, CIFAR-10 Batch 1:  cost: 1.427473783493042, accuracy: 0.5503999590873718\n",
      "Epoch  4, CIFAR-10 Batch 2:  cost: 1.1109240055084229, accuracy: 0.5635999441146851\n",
      "Epoch  4, CIFAR-10 Batch 3:  cost: 1.0063601732254028, accuracy: 0.5405999422073364\n",
      "Epoch  4, CIFAR-10 Batch 4:  cost: 1.1340340375900269, accuracy: 0.554599940776825\n",
      "Epoch  4, CIFAR-10 Batch 5:  cost: 1.2564653158187866, accuracy: 0.5740000009536743\n",
      "Epoch  5, CIFAR-10 Batch 1:  cost: 1.339579463005066, accuracy: 0.5721998810768127\n",
      "Epoch  5, CIFAR-10 Batch 2:  cost: 0.9864280223846436, accuracy: 0.5851999521255493\n",
      "Epoch  5, CIFAR-10 Batch 3:  cost: 0.9788305163383484, accuracy: 0.5735999345779419\n",
      "Epoch  5, CIFAR-10 Batch 4:  cost: 1.092356562614441, accuracy: 0.5879998803138733\n",
      "Epoch  5, CIFAR-10 Batch 5:  cost: 1.1655083894729614, accuracy: 0.5959999561309814\n",
      "Epoch  6, CIFAR-10 Batch 1:  cost: 1.197460412979126, accuracy: 0.6119999289512634\n",
      "Epoch  6, CIFAR-10 Batch 2:  cost: 0.9621322154998779, accuracy: 0.6093999147415161\n",
      "Epoch  6, CIFAR-10 Batch 3:  cost: 0.760146975517273, accuracy: 0.6185998320579529\n",
      "Epoch  6, CIFAR-10 Batch 4:  cost: 0.9659565687179565, accuracy: 0.6121999025344849\n",
      "Epoch  6, CIFAR-10 Batch 5:  cost: 1.0642437934875488, accuracy: 0.6223999261856079\n",
      "Epoch  7, CIFAR-10 Batch 1:  cost: 1.1606314182281494, accuracy: 0.6383999586105347\n",
      "Epoch  7, CIFAR-10 Batch 2:  cost: 0.8291575312614441, accuracy: 0.6175999045372009\n",
      "Epoch  7, CIFAR-10 Batch 3:  cost: 0.7104167938232422, accuracy: 0.6183999180793762\n",
      "Epoch  7, CIFAR-10 Batch 4:  cost: 0.911494255065918, accuracy: 0.6329998970031738\n",
      "Epoch  7, CIFAR-10 Batch 5:  cost: 0.9147854447364807, accuracy: 0.645599901676178\n",
      "Epoch  8, CIFAR-10 Batch 1:  cost: 1.0673060417175293, accuracy: 0.6415998935699463\n",
      "Epoch  8, CIFAR-10 Batch 2:  cost: 0.8299624919891357, accuracy: 0.6337999105453491\n",
      "Epoch  8, CIFAR-10 Batch 3:  cost: 0.6059723496437073, accuracy: 0.6427998542785645\n",
      "Epoch  8, CIFAR-10 Batch 4:  cost: 0.8469865322113037, accuracy: 0.6513998508453369\n",
      "Epoch  8, CIFAR-10 Batch 5:  cost: 0.9689610004425049, accuracy: 0.6459999084472656\n",
      "Epoch  9, CIFAR-10 Batch 1:  cost: 0.9724588394165039, accuracy: 0.6513998508453369\n",
      "Epoch  9, CIFAR-10 Batch 2:  cost: 0.7494283318519592, accuracy: 0.6493998765945435\n",
      "Epoch  9, CIFAR-10 Batch 3:  cost: 0.5865719318389893, accuracy: 0.6513998508453369\n",
      "Epoch  9, CIFAR-10 Batch 4:  cost: 0.8754244446754456, accuracy: 0.6551998853683472\n",
      "Epoch  9, CIFAR-10 Batch 5:  cost: 0.8929519653320312, accuracy: 0.6497998833656311\n",
      "Epoch 10, CIFAR-10 Batch 1:  cost: 0.90162193775177, accuracy: 0.6575998663902283\n",
      "Epoch 10, CIFAR-10 Batch 2:  cost: 0.7966645956039429, accuracy: 0.6531999111175537\n",
      "Epoch 10, CIFAR-10 Batch 3:  cost: 0.5983678102493286, accuracy: 0.6563999056816101\n",
      "Epoch 10, CIFAR-10 Batch 4:  cost: 0.8420162200927734, accuracy: 0.652199923992157\n",
      "Epoch 10, CIFAR-10 Batch 5:  cost: 0.8620189428329468, accuracy: 0.6527998447418213\n",
      "Epoch 11, CIFAR-10 Batch 1:  cost: 0.9102097153663635, accuracy: 0.6653999090194702\n",
      "Epoch 11, CIFAR-10 Batch 2:  cost: 0.7487463355064392, accuracy: 0.6651998162269592\n",
      "Epoch 11, CIFAR-10 Batch 3:  cost: 0.6046440601348877, accuracy: 0.6591999530792236\n",
      "Epoch 11, CIFAR-10 Batch 4:  cost: 0.8621219992637634, accuracy: 0.6779998540878296\n",
      "Epoch 11, CIFAR-10 Batch 5:  cost: 0.8252089023590088, accuracy: 0.6523999571800232\n",
      "Epoch 12, CIFAR-10 Batch 1:  cost: 0.8029409050941467, accuracy: 0.6723998785018921\n",
      "Epoch 12, CIFAR-10 Batch 2:  cost: 0.7516480684280396, accuracy: 0.6669999361038208\n",
      "Epoch 12, CIFAR-10 Batch 3:  cost: 0.5728087425231934, accuracy: 0.6655998826026917\n",
      "Epoch 12, CIFAR-10 Batch 4:  cost: 0.7931663990020752, accuracy: 0.6679998636245728\n",
      "Epoch 12, CIFAR-10 Batch 5:  cost: 0.8311804533004761, accuracy: 0.6707998514175415\n",
      "Epoch 13, CIFAR-10 Batch 1:  cost: 0.7291266918182373, accuracy: 0.6679998636245728\n",
      "Epoch 13, CIFAR-10 Batch 2:  cost: 0.6724111437797546, accuracy: 0.6705998778343201\n",
      "Epoch 13, CIFAR-10 Batch 3:  cost: 0.5843139290809631, accuracy: 0.6607998609542847\n",
      "Epoch 13, CIFAR-10 Batch 4:  cost: 0.8142138719558716, accuracy: 0.6693998575210571\n",
      "Epoch 13, CIFAR-10 Batch 5:  cost: 0.7817862033843994, accuracy: 0.6655998826026917\n",
      "Epoch 14, CIFAR-10 Batch 1:  cost: 0.7145841121673584, accuracy: 0.6797998547554016\n",
      "Epoch 14, CIFAR-10 Batch 2:  cost: 0.7095112204551697, accuracy: 0.6733999252319336\n",
      "Epoch 14, CIFAR-10 Batch 3:  cost: 0.5127102136611938, accuracy: 0.6691998839378357\n",
      "Epoch 14, CIFAR-10 Batch 4:  cost: 0.7241147756576538, accuracy: 0.6823998689651489\n",
      "Epoch 14, CIFAR-10 Batch 5:  cost: 0.7639610767364502, accuracy: 0.6643998622894287\n",
      "Epoch 15, CIFAR-10 Batch 1:  cost: 0.7412433624267578, accuracy: 0.6813998818397522\n",
      "Epoch 15, CIFAR-10 Batch 2:  cost: 0.6551482081413269, accuracy: 0.679399847984314\n",
      "Epoch 15, CIFAR-10 Batch 3:  cost: 0.5630015134811401, accuracy: 0.6713998913764954\n",
      "Epoch 15, CIFAR-10 Batch 4:  cost: 0.7684664726257324, accuracy: 0.6757999062538147\n",
      "Epoch 15, CIFAR-10 Batch 5:  cost: 0.722899317741394, accuracy: 0.6661999225616455\n",
      "Epoch 16, CIFAR-10 Batch 1:  cost: 0.7967072129249573, accuracy: 0.6739998459815979\n",
      "Epoch 16, CIFAR-10 Batch 2:  cost: 0.6557139158248901, accuracy: 0.6827998757362366\n",
      "Epoch 16, CIFAR-10 Batch 3:  cost: 0.5517337322235107, accuracy: 0.679999828338623\n",
      "Epoch 16, CIFAR-10 Batch 4:  cost: 0.7200654149055481, accuracy: 0.6857998967170715\n",
      "Epoch 16, CIFAR-10 Batch 5:  cost: 0.721258282661438, accuracy: 0.6771998405456543\n",
      "Epoch 17, CIFAR-10 Batch 1:  cost: 0.7480864524841309, accuracy: 0.6869997978210449\n",
      "Epoch 17, CIFAR-10 Batch 2:  cost: 0.6252106428146362, accuracy: 0.6833998560905457\n",
      "Epoch 17, CIFAR-10 Batch 3:  cost: 0.5349389314651489, accuracy: 0.6811999082565308\n",
      "Epoch 17, CIFAR-10 Batch 4:  cost: 0.7144888043403625, accuracy: 0.6885998249053955\n",
      "Epoch 17, CIFAR-10 Batch 5:  cost: 0.664242684841156, accuracy: 0.6749998331069946\n",
      "Epoch 18, CIFAR-10 Batch 1:  cost: 0.7281222343444824, accuracy: 0.6785998344421387\n",
      "Epoch 18, CIFAR-10 Batch 2:  cost: 0.5929034948348999, accuracy: 0.6849998235702515\n",
      "Epoch 18, CIFAR-10 Batch 3:  cost: 0.504331648349762, accuracy: 0.6789999008178711\n",
      "Epoch 18, CIFAR-10 Batch 4:  cost: 0.6709815263748169, accuracy: 0.6857998371124268\n",
      "Epoch 18, CIFAR-10 Batch 5:  cost: 0.6736295819282532, accuracy: 0.6777998805046082\n",
      "Epoch 19, CIFAR-10 Batch 1:  cost: 0.6592372059822083, accuracy: 0.6799998879432678\n",
      "Epoch 19, CIFAR-10 Batch 2:  cost: 0.6068712472915649, accuracy: 0.6877999305725098\n",
      "Epoch 19, CIFAR-10 Batch 3:  cost: 0.5557587146759033, accuracy: 0.6819998621940613\n",
      "Epoch 19, CIFAR-10 Batch 4:  cost: 0.68413245677948, accuracy: 0.6945998072624207\n",
      "Epoch 19, CIFAR-10 Batch 5:  cost: 0.6587709188461304, accuracy: 0.6789999008178711\n",
      "Epoch 20, CIFAR-10 Batch 1:  cost: 0.6267102956771851, accuracy: 0.6903998255729675\n",
      "Epoch 20, CIFAR-10 Batch 2:  cost: 0.6131794452667236, accuracy: 0.699199914932251\n",
      "Epoch 20, CIFAR-10 Batch 3:  cost: 0.4855191111564636, accuracy: 0.6995998620986938\n",
      "Epoch 20, CIFAR-10 Batch 4:  cost: 0.6961432695388794, accuracy: 0.6955998539924622\n",
      "Epoch 20, CIFAR-10 Batch 5:  cost: 0.5929352045059204, accuracy: 0.6845998764038086\n",
      "Epoch 21, CIFAR-10 Batch 1:  cost: 0.6502582430839539, accuracy: 0.6927998065948486\n",
      "Epoch 21, CIFAR-10 Batch 2:  cost: 0.5729414224624634, accuracy: 0.6961997747421265\n",
      "Epoch 21, CIFAR-10 Batch 3:  cost: 0.47298720479011536, accuracy: 0.6815998554229736\n",
      "Epoch 21, CIFAR-10 Batch 4:  cost: 0.6883443593978882, accuracy: 0.6897997856140137\n",
      "Epoch 21, CIFAR-10 Batch 5:  cost: 0.6241837739944458, accuracy: 0.6825998425483704\n",
      "Epoch 22, CIFAR-10 Batch 1:  cost: 0.6125910878181458, accuracy: 0.6937997937202454\n",
      "Epoch 22, CIFAR-10 Batch 2:  cost: 0.5034597516059875, accuracy: 0.6989998817443848\n",
      "Epoch 22, CIFAR-10 Batch 3:  cost: 0.4947264790534973, accuracy: 0.6937998533248901\n",
      "Epoch 22, CIFAR-10 Batch 4:  cost: 0.6771275997161865, accuracy: 0.694399893283844\n",
      "Epoch 22, CIFAR-10 Batch 5:  cost: 0.5951285362243652, accuracy: 0.676399827003479\n",
      "Epoch 23, CIFAR-10 Batch 1:  cost: 0.6695517897605896, accuracy: 0.692599892616272\n",
      "Epoch 23, CIFAR-10 Batch 2:  cost: 0.5149474143981934, accuracy: 0.6965998411178589\n",
      "Epoch 23, CIFAR-10 Batch 3:  cost: 0.47481614351272583, accuracy: 0.6901998519897461\n",
      "Epoch 23, CIFAR-10 Batch 4:  cost: 0.6313670873641968, accuracy: 0.6959998607635498\n",
      "Epoch 23, CIFAR-10 Batch 5:  cost: 0.5873489379882812, accuracy: 0.681199848651886\n",
      "Epoch 24, CIFAR-10 Batch 1:  cost: 0.6339191198348999, accuracy: 0.6997998952865601\n",
      "Epoch 24, CIFAR-10 Batch 2:  cost: 0.5693309903144836, accuracy: 0.6921998858451843\n",
      "Epoch 24, CIFAR-10 Batch 3:  cost: 0.48594340682029724, accuracy: 0.6985998153686523\n",
      "Epoch 24, CIFAR-10 Batch 4:  cost: 0.6136818528175354, accuracy: 0.6933999061584473\n",
      "Epoch 24, CIFAR-10 Batch 5:  cost: 0.577713131904602, accuracy: 0.6819998621940613\n",
      "Epoch 25, CIFAR-10 Batch 1:  cost: 0.5351058840751648, accuracy: 0.7023998498916626\n",
      "Epoch 25, CIFAR-10 Batch 2:  cost: 0.565064013004303, accuracy: 0.6867998838424683\n",
      "Epoch 25, CIFAR-10 Batch 3:  cost: 0.46823787689208984, accuracy: 0.7017998695373535\n",
      "Epoch 25, CIFAR-10 Batch 4:  cost: 0.5945900678634644, accuracy: 0.7029998302459717\n",
      "Epoch 25, CIFAR-10 Batch 5:  cost: 0.5622768998146057, accuracy: 0.6835998892784119\n",
      "Epoch 26, CIFAR-10 Batch 1:  cost: 0.6032476425170898, accuracy: 0.6991998553276062\n",
      "Epoch 26, CIFAR-10 Batch 2:  cost: 0.5129173994064331, accuracy: 0.7029998898506165\n",
      "Epoch 26, CIFAR-10 Batch 3:  cost: 0.5091710686683655, accuracy: 0.7051998972892761\n",
      "Epoch 26, CIFAR-10 Batch 4:  cost: 0.5616000890731812, accuracy: 0.6957998871803284\n",
      "Epoch 26, CIFAR-10 Batch 5:  cost: 0.5629581212997437, accuracy: 0.6755999326705933\n",
      "Epoch 27, CIFAR-10 Batch 1:  cost: 0.5551833510398865, accuracy: 0.6923998594284058\n",
      "Epoch 27, CIFAR-10 Batch 2:  cost: 0.499296635389328, accuracy: 0.7139998078346252\n",
      "Epoch 27, CIFAR-10 Batch 3:  cost: 0.44668400287628174, accuracy: 0.6987998485565186\n",
      "Epoch 27, CIFAR-10 Batch 4:  cost: 0.5132107734680176, accuracy: 0.7051998376846313\n",
      "Epoch 27, CIFAR-10 Batch 5:  cost: 0.5329986810684204, accuracy: 0.6937998533248901\n",
      "Epoch 28, CIFAR-10 Batch 1:  cost: 0.5303635597229004, accuracy: 0.7035998106002808\n",
      "Epoch 28, CIFAR-10 Batch 2:  cost: 0.5441396832466125, accuracy: 0.693199872970581\n",
      "Epoch 28, CIFAR-10 Batch 3:  cost: 0.4491336941719055, accuracy: 0.7003998756408691\n",
      "Epoch 28, CIFAR-10 Batch 4:  cost: 0.5714311003684998, accuracy: 0.7081998586654663\n",
      "Epoch 28, CIFAR-10 Batch 5:  cost: 0.56151282787323, accuracy: 0.6997998952865601\n",
      "Epoch 29, CIFAR-10 Batch 1:  cost: 0.5379619002342224, accuracy: 0.7031998634338379\n",
      "Epoch 29, CIFAR-10 Batch 2:  cost: 0.5209866762161255, accuracy: 0.704599916934967\n",
      "Epoch 29, CIFAR-10 Batch 3:  cost: 0.4672279953956604, accuracy: 0.6985998749732971\n",
      "Epoch 29, CIFAR-10 Batch 4:  cost: 0.606669008731842, accuracy: 0.7041999101638794\n",
      "Epoch 29, CIFAR-10 Batch 5:  cost: 0.5262436270713806, accuracy: 0.6999998092651367\n",
      "Epoch 30, CIFAR-10 Batch 1:  cost: 0.5281074643135071, accuracy: 0.7115998864173889\n",
      "Epoch 30, CIFAR-10 Batch 2:  cost: 0.4362754821777344, accuracy: 0.707399845123291\n",
      "Epoch 30, CIFAR-10 Batch 3:  cost: 0.46233803033828735, accuracy: 0.6905998587608337\n",
      "Epoch 30, CIFAR-10 Batch 4:  cost: 0.5534886121749878, accuracy: 0.7051998376846313\n",
      "Epoch 30, CIFAR-10 Batch 5:  cost: 0.5600219368934631, accuracy: 0.6955998539924622\n",
      "Epoch 31, CIFAR-10 Batch 1:  cost: 0.5461328029632568, accuracy: 0.7063998579978943\n",
      "Epoch 31, CIFAR-10 Batch 2:  cost: 0.5166770815849304, accuracy: 0.7083998322486877\n",
      "Epoch 31, CIFAR-10 Batch 3:  cost: 0.44056400656700134, accuracy: 0.689599871635437\n",
      "Epoch 31, CIFAR-10 Batch 4:  cost: 0.5071796774864197, accuracy: 0.7135998606681824\n",
      "Epoch 31, CIFAR-10 Batch 5:  cost: 0.5089496374130249, accuracy: 0.7001998424530029\n",
      "Epoch 32, CIFAR-10 Batch 1:  cost: 0.5046932101249695, accuracy: 0.7071998715400696\n",
      "Epoch 32, CIFAR-10 Batch 2:  cost: 0.5067488551139832, accuracy: 0.6991998553276062\n",
      "Epoch 32, CIFAR-10 Batch 3:  cost: 0.4160881042480469, accuracy: 0.7051998972892761\n",
      "Epoch 32, CIFAR-10 Batch 4:  cost: 0.4983699917793274, accuracy: 0.7131998538970947\n",
      "Epoch 32, CIFAR-10 Batch 5:  cost: 0.5128244757652283, accuracy: 0.7001998424530029\n",
      "Epoch 33, CIFAR-10 Batch 1:  cost: 0.4864598512649536, accuracy: 0.7041997909545898\n",
      "Epoch 33, CIFAR-10 Batch 2:  cost: 0.4638575613498688, accuracy: 0.705599844455719\n",
      "Epoch 33, CIFAR-10 Batch 3:  cost: 0.40113815665245056, accuracy: 0.7085999250411987\n",
      "Epoch 33, CIFAR-10 Batch 4:  cost: 0.5321158170700073, accuracy: 0.7071999311447144\n",
      "Epoch 33, CIFAR-10 Batch 5:  cost: 0.4838947653770447, accuracy: 0.7017998695373535\n",
      "Epoch 34, CIFAR-10 Batch 1:  cost: 0.4969007968902588, accuracy: 0.7021998763084412\n",
      "Epoch 34, CIFAR-10 Batch 2:  cost: 0.43486616015434265, accuracy: 0.7105998396873474\n",
      "Epoch 34, CIFAR-10 Batch 3:  cost: 0.3944067358970642, accuracy: 0.7033998370170593\n",
      "Epoch 34, CIFAR-10 Batch 4:  cost: 0.5248264074325562, accuracy: 0.7079998254776001\n",
      "Epoch 34, CIFAR-10 Batch 5:  cost: 0.500102698802948, accuracy: 0.7047998309135437\n",
      "Epoch 35, CIFAR-10 Batch 1:  cost: 0.5621752738952637, accuracy: 0.7057998776435852\n",
      "Epoch 35, CIFAR-10 Batch 2:  cost: 0.4611225724220276, accuracy: 0.7041999101638794\n",
      "Epoch 35, CIFAR-10 Batch 3:  cost: 0.3800676763057709, accuracy: 0.7099999189376831\n",
      "Epoch 35, CIFAR-10 Batch 4:  cost: 0.5393221378326416, accuracy: 0.7035998702049255\n",
      "Epoch 35, CIFAR-10 Batch 5:  cost: 0.4427616596221924, accuracy: 0.7033998370170593\n",
      "Epoch 36, CIFAR-10 Batch 1:  cost: 0.44566065073013306, accuracy: 0.7079998850822449\n",
      "Epoch 36, CIFAR-10 Batch 2:  cost: 0.4505786597728729, accuracy: 0.7111998796463013\n",
      "Epoch 36, CIFAR-10 Batch 3:  cost: 0.37100842595100403, accuracy: 0.7171998620033264\n",
      "Epoch 36, CIFAR-10 Batch 4:  cost: 0.5106080770492554, accuracy: 0.7081998586654663\n",
      "Epoch 36, CIFAR-10 Batch 5:  cost: 0.5090826749801636, accuracy: 0.70579993724823\n",
      "Epoch 37, CIFAR-10 Batch 1:  cost: 0.5083526372909546, accuracy: 0.7133998870849609\n",
      "Epoch 37, CIFAR-10 Batch 2:  cost: 0.46252086758613586, accuracy: 0.7053998708724976\n",
      "Epoch 37, CIFAR-10 Batch 3:  cost: 0.4446895122528076, accuracy: 0.7105998992919922\n",
      "Epoch 37, CIFAR-10 Batch 4:  cost: 0.51352858543396, accuracy: 0.7037999033927917\n",
      "Epoch 37, CIFAR-10 Batch 5:  cost: 0.4847298264503479, accuracy: 0.7057998776435852\n",
      "Epoch 38, CIFAR-10 Batch 1:  cost: 0.44655919075012207, accuracy: 0.7117998600006104\n",
      "Epoch 38, CIFAR-10 Batch 2:  cost: 0.42394158244132996, accuracy: 0.7047998905181885\n",
      "Epoch 38, CIFAR-10 Batch 3:  cost: 0.3500606417655945, accuracy: 0.7013998627662659\n",
      "Epoch 38, CIFAR-10 Batch 4:  cost: 0.48967045545578003, accuracy: 0.7093998193740845\n",
      "Epoch 38, CIFAR-10 Batch 5:  cost: 0.46562084555625916, accuracy: 0.7021998167037964\n",
      "Epoch 39, CIFAR-10 Batch 1:  cost: 0.4449567198753357, accuracy: 0.7077998518943787\n",
      "Epoch 39, CIFAR-10 Batch 2:  cost: 0.4209093153476715, accuracy: 0.708599865436554\n",
      "Epoch 39, CIFAR-10 Batch 3:  cost: 0.3788970708847046, accuracy: 0.7063998579978943\n",
      "Epoch 39, CIFAR-10 Batch 4:  cost: 0.48917070031166077, accuracy: 0.7107998728752136\n",
      "Epoch 39, CIFAR-10 Batch 5:  cost: 0.48218834400177, accuracy: 0.6945998668670654\n",
      "Epoch 40, CIFAR-10 Batch 1:  cost: 0.48980480432510376, accuracy: 0.7075998783111572\n",
      "Epoch 40, CIFAR-10 Batch 2:  cost: 0.4548858106136322, accuracy: 0.7083998918533325\n",
      "Epoch 40, CIFAR-10 Batch 3:  cost: 0.3723992705345154, accuracy: 0.7067998647689819\n",
      "Epoch 40, CIFAR-10 Batch 4:  cost: 0.4821377098560333, accuracy: 0.7111998200416565\n",
      "Epoch 40, CIFAR-10 Batch 5:  cost: 0.47537940740585327, accuracy: 0.710399866104126\n",
      "Epoch 41, CIFAR-10 Batch 1:  cost: 0.44544723629951477, accuracy: 0.7087998390197754\n",
      "Epoch 41, CIFAR-10 Batch 2:  cost: 0.4362834393978119, accuracy: 0.7095997929573059\n",
      "Epoch 41, CIFAR-10 Batch 3:  cost: 0.35423898696899414, accuracy: 0.7155998945236206\n",
      "Epoch 41, CIFAR-10 Batch 4:  cost: 0.4786955416202545, accuracy: 0.7067998051643372\n",
      "Epoch 41, CIFAR-10 Batch 5:  cost: 0.4392734169960022, accuracy: 0.7023998498916626\n",
      "Epoch 42, CIFAR-10 Batch 1:  cost: 0.38706186413764954, accuracy: 0.7191998362541199\n",
      "Epoch 42, CIFAR-10 Batch 2:  cost: 0.43146321177482605, accuracy: 0.7123998403549194\n",
      "Epoch 42, CIFAR-10 Batch 3:  cost: 0.3473927974700928, accuracy: 0.720599889755249\n",
      "Epoch 42, CIFAR-10 Batch 4:  cost: 0.5032486915588379, accuracy: 0.7093998193740845\n",
      "Epoch 42, CIFAR-10 Batch 5:  cost: 0.4177500903606415, accuracy: 0.7095998525619507\n",
      "Epoch 43, CIFAR-10 Batch 1:  cost: 0.4134466350078583, accuracy: 0.7077999114990234\n",
      "Epoch 43, CIFAR-10 Batch 2:  cost: 0.3574795126914978, accuracy: 0.7205998301506042\n",
      "Epoch 43, CIFAR-10 Batch 3:  cost: 0.3666245937347412, accuracy: 0.7093998193740845\n",
      "Epoch 43, CIFAR-10 Batch 4:  cost: 0.4776974618434906, accuracy: 0.7141999006271362\n",
      "Epoch 43, CIFAR-10 Batch 5:  cost: 0.4336740970611572, accuracy: 0.6997998356819153\n",
      "Epoch 44, CIFAR-10 Batch 1:  cost: 0.4090815484523773, accuracy: 0.7215999364852905\n",
      "Epoch 44, CIFAR-10 Batch 2:  cost: 0.3838801980018616, accuracy: 0.709199845790863\n",
      "Epoch 44, CIFAR-10 Batch 3:  cost: 0.3462376594543457, accuracy: 0.7101998329162598\n",
      "Epoch 44, CIFAR-10 Batch 4:  cost: 0.46158331632614136, accuracy: 0.7159997820854187\n",
      "Epoch 44, CIFAR-10 Batch 5:  cost: 0.4500921964645386, accuracy: 0.6971998810768127\n",
      "Epoch 45, CIFAR-10 Batch 1:  cost: 0.44611549377441406, accuracy: 0.7115998268127441\n",
      "Epoch 45, CIFAR-10 Batch 2:  cost: 0.35855814814567566, accuracy: 0.7101998925209045\n",
      "Epoch 45, CIFAR-10 Batch 3:  cost: 0.35315781831741333, accuracy: 0.714999794960022\n",
      "Epoch 45, CIFAR-10 Batch 4:  cost: 0.44151246547698975, accuracy: 0.7113999128341675\n",
      "Epoch 45, CIFAR-10 Batch 5:  cost: 0.43197253346443176, accuracy: 0.7059999108314514\n",
      "Epoch 46, CIFAR-10 Batch 1:  cost: 0.4153699278831482, accuracy: 0.7117999196052551\n",
      "Epoch 46, CIFAR-10 Batch 2:  cost: 0.36940258741378784, accuracy: 0.7161998152732849\n",
      "Epoch 46, CIFAR-10 Batch 3:  cost: 0.3557863235473633, accuracy: 0.7181998491287231\n",
      "Epoch 46, CIFAR-10 Batch 4:  cost: 0.459977924823761, accuracy: 0.7047998905181885\n",
      "Epoch 46, CIFAR-10 Batch 5:  cost: 0.44726958870887756, accuracy: 0.7145999073982239\n",
      "Epoch 47, CIFAR-10 Batch 1:  cost: 0.4402307868003845, accuracy: 0.7109998464584351\n",
      "Epoch 47, CIFAR-10 Batch 2:  cost: 0.389072448015213, accuracy: 0.7087998986244202\n",
      "Epoch 47, CIFAR-10 Batch 3:  cost: 0.3505556583404541, accuracy: 0.7089998722076416\n",
      "Epoch 47, CIFAR-10 Batch 4:  cost: 0.4313548505306244, accuracy: 0.71399986743927\n",
      "Epoch 47, CIFAR-10 Batch 5:  cost: 0.4623170495033264, accuracy: 0.7141999006271362\n",
      "Epoch 48, CIFAR-10 Batch 1:  cost: 0.4380282163619995, accuracy: 0.7147998809814453\n",
      "Epoch 48, CIFAR-10 Batch 2:  cost: 0.3585130572319031, accuracy: 0.7119998931884766\n",
      "Epoch 48, CIFAR-10 Batch 3:  cost: 0.3666228950023651, accuracy: 0.7201998233795166\n",
      "Epoch 48, CIFAR-10 Batch 4:  cost: 0.4021381139755249, accuracy: 0.7085999250411987\n",
      "Epoch 48, CIFAR-10 Batch 5:  cost: 0.40549689531326294, accuracy: 0.7061998844146729\n",
      "Epoch 49, CIFAR-10 Batch 1:  cost: 0.42079198360443115, accuracy: 0.7097998261451721\n",
      "Epoch 49, CIFAR-10 Batch 2:  cost: 0.32054704427719116, accuracy: 0.7199998497962952\n",
      "Epoch 49, CIFAR-10 Batch 3:  cost: 0.3206217586994171, accuracy: 0.7189998030662537\n",
      "Epoch 49, CIFAR-10 Batch 4:  cost: 0.4778017997741699, accuracy: 0.7193998098373413\n",
      "Epoch 49, CIFAR-10 Batch 5:  cost: 0.4426710605621338, accuracy: 0.7145998477935791\n",
      "Epoch 50, CIFAR-10 Batch 1:  cost: 0.46727922558784485, accuracy: 0.7101998925209045\n",
      "Epoch 50, CIFAR-10 Batch 2:  cost: 0.35510316491127014, accuracy: 0.7115998864173889\n",
      "Epoch 50, CIFAR-10 Batch 3:  cost: 0.33185911178588867, accuracy: 0.7201998233795166\n",
      "Epoch 50, CIFAR-10 Batch 4:  cost: 0.4917091429233551, accuracy: 0.7141999006271362\n",
      "Epoch 50, CIFAR-10 Batch 5:  cost: 0.3725828528404236, accuracy: 0.718599796295166\n",
      "Epoch 51, CIFAR-10 Batch 1:  cost: 0.436964213848114, accuracy: 0.7219998240470886\n",
      "Epoch 51, CIFAR-10 Batch 2:  cost: 0.3342036306858063, accuracy: 0.7193998694419861\n",
      "Epoch 51, CIFAR-10 Batch 3:  cost: 0.30977827310562134, accuracy: 0.7123998403549194\n",
      "Epoch 51, CIFAR-10 Batch 4:  cost: 0.48701298236846924, accuracy: 0.7095997929573059\n",
      "Epoch 51, CIFAR-10 Batch 5:  cost: 0.399372398853302, accuracy: 0.7115998268127441\n",
      "Epoch 52, CIFAR-10 Batch 1:  cost: 0.4566212296485901, accuracy: 0.7177999019622803\n",
      "Epoch 52, CIFAR-10 Batch 2:  cost: 0.3385597765445709, accuracy: 0.7129998207092285\n",
      "Epoch 52, CIFAR-10 Batch 3:  cost: 0.33144086599349976, accuracy: 0.7147998213768005\n",
      "Epoch 52, CIFAR-10 Batch 4:  cost: 0.4544801712036133, accuracy: 0.7147998809814453\n",
      "Epoch 52, CIFAR-10 Batch 5:  cost: 0.43391770124435425, accuracy: 0.7105998992919922\n",
      "Epoch 53, CIFAR-10 Batch 1:  cost: 0.3832419514656067, accuracy: 0.7207998633384705\n",
      "Epoch 53, CIFAR-10 Batch 2:  cost: 0.33029091358184814, accuracy: 0.7173998355865479\n",
      "Epoch 53, CIFAR-10 Batch 3:  cost: 0.3217800557613373, accuracy: 0.715799868106842\n",
      "Epoch 53, CIFAR-10 Batch 4:  cost: 0.48164740204811096, accuracy: 0.7147998213768005\n",
      "Epoch 53, CIFAR-10 Batch 5:  cost: 0.41559189558029175, accuracy: 0.7195997834205627\n",
      "Epoch 54, CIFAR-10 Batch 1:  cost: 0.3713621497154236, accuracy: 0.715799868106842\n",
      "Epoch 54, CIFAR-10 Batch 2:  cost: 0.34390902519226074, accuracy: 0.7103999257087708\n",
      "Epoch 54, CIFAR-10 Batch 3:  cost: 0.2958402633666992, accuracy: 0.7175998091697693\n",
      "Epoch 54, CIFAR-10 Batch 4:  cost: 0.45126277208328247, accuracy: 0.7149998545646667\n",
      "Epoch 54, CIFAR-10 Batch 5:  cost: 0.3821202516555786, accuracy: 0.7011997699737549\n",
      "Epoch 55, CIFAR-10 Batch 1:  cost: 0.40725016593933105, accuracy: 0.7181999087333679\n",
      "Epoch 55, CIFAR-10 Batch 2:  cost: 0.31311020255088806, accuracy: 0.7143998146057129\n",
      "Epoch 55, CIFAR-10 Batch 3:  cost: 0.31406551599502563, accuracy: 0.7221998572349548\n",
      "Epoch 55, CIFAR-10 Batch 4:  cost: 0.4473181962966919, accuracy: 0.7207999229431152\n",
      "Epoch 55, CIFAR-10 Batch 5:  cost: 0.36313164234161377, accuracy: 0.7183998227119446\n",
      "Epoch 56, CIFAR-10 Batch 1:  cost: 0.4240591526031494, accuracy: 0.7165998220443726\n",
      "Epoch 56, CIFAR-10 Batch 2:  cost: 0.30360910296440125, accuracy: 0.7069998383522034\n",
      "Epoch 56, CIFAR-10 Batch 3:  cost: 0.31450405716896057, accuracy: 0.7201998829841614\n",
      "Epoch 56, CIFAR-10 Batch 4:  cost: 0.4181361198425293, accuracy: 0.7215998768806458\n",
      "Epoch 56, CIFAR-10 Batch 5:  cost: 0.40215441584587097, accuracy: 0.7047998309135437\n",
      "Epoch 57, CIFAR-10 Batch 1:  cost: 0.3800261318683624, accuracy: 0.7147998213768005\n",
      "Epoch 57, CIFAR-10 Batch 2:  cost: 0.3268837332725525, accuracy: 0.716999888420105\n",
      "Epoch 57, CIFAR-10 Batch 3:  cost: 0.2645541727542877, accuracy: 0.7263998985290527\n",
      "Epoch 57, CIFAR-10 Batch 4:  cost: 0.4178180992603302, accuracy: 0.7185998558998108\n",
      "Epoch 57, CIFAR-10 Batch 5:  cost: 0.41677337884902954, accuracy: 0.7123997807502747\n",
      "Epoch 58, CIFAR-10 Batch 1:  cost: 0.36101430654525757, accuracy: 0.7183998823165894\n",
      "Epoch 58, CIFAR-10 Batch 2:  cost: 0.2960455119609833, accuracy: 0.7221997976303101\n",
      "Epoch 58, CIFAR-10 Batch 3:  cost: 0.33193516731262207, accuracy: 0.7213998436927795\n",
      "Epoch 58, CIFAR-10 Batch 4:  cost: 0.4045346975326538, accuracy: 0.7141999006271362\n",
      "Epoch 58, CIFAR-10 Batch 5:  cost: 0.38515979051589966, accuracy: 0.7105998396873474\n",
      "Epoch 59, CIFAR-10 Batch 1:  cost: 0.38850343227386475, accuracy: 0.7159998416900635\n",
      "Epoch 59, CIFAR-10 Batch 2:  cost: 0.3474588990211487, accuracy: 0.7189998030662537\n",
      "Epoch 59, CIFAR-10 Batch 3:  cost: 0.2688310444355011, accuracy: 0.7153998017311096\n",
      "Epoch 59, CIFAR-10 Batch 4:  cost: 0.3913106918334961, accuracy: 0.719799816608429\n",
      "Epoch 59, CIFAR-10 Batch 5:  cost: 0.3789868950843811, accuracy: 0.7159998416900635\n",
      "Epoch 60, CIFAR-10 Batch 1:  cost: 0.37953245639801025, accuracy: 0.7235998511314392\n",
      "Epoch 60, CIFAR-10 Batch 2:  cost: 0.30690091848373413, accuracy: 0.7259998917579651\n",
      "Epoch 60, CIFAR-10 Batch 3:  cost: 0.32028138637542725, accuracy: 0.7217997908592224\n",
      "Epoch 60, CIFAR-10 Batch 4:  cost: 0.3685517907142639, accuracy: 0.716999888420105\n",
      "Epoch 60, CIFAR-10 Batch 5:  cost: 0.38401854038238525, accuracy: 0.7245998978614807\n"
     ]
    }
   ],
   "source": [
    "\"\"\"\n",
    "DON'T MODIFY ANYTHING IN THIS CELL\n",
    "\"\"\"\n",
    "save_model_path = './image_classification'\n",
    "\n",
    "print('Training...')\n",
    "with tf.Session() as sess:\n",
    "    # Initializing the variables\n",
    "    sess.run(tf.global_variables_initializer())\n",
    "    \n",
    "    # Training cycle\n",
    "    for epoch in range(epochs):\n",
    "        # Loop over all batches\n",
    "        n_batches = 5\n",
    "        for batch_i in range(1, n_batches + 1):\n",
    "            for batch_features, batch_labels in helper.load_preprocess_training_batch(batch_i, batch_size):\n",
    "                train_neural_network(sess, optimizer, keep_probability, batch_features, batch_labels)\n",
    "                \n",
    "            print('Epoch {:>2}, CIFAR-10 Batch {}:  '.format(epoch + 1, batch_i), end='')\n",
    "            print_stats(sess, batch_features, batch_labels, cost, accuracy)\n",
    "            \n",
    "    # Save Model\n",
    "    saver = tf.train.Saver()\n",
    "    save_path = saver.save(sess, save_model_path)"
   ]
  },
  {
   "cell_type": "markdown",
   "metadata": {
    "deletable": true,
    "editable": true
   },
   "source": [
    "# Checkpoint\n",
    "The model has been saved to disk.\n",
    "## Test Model\n",
    "Test your model against the test dataset.  This will be your final accuracy. You should have an accuracy greater than 50%. If you don't, keep tweaking the model architecture and parameters."
   ]
  },
  {
   "cell_type": "code",
   "execution_count": 24,
   "metadata": {
    "collapsed": false,
    "deletable": true,
    "editable": true
   },
   "outputs": [
    {
     "name": "stdout",
     "output_type": "stream",
     "text": [
      "Testing Accuracy: 0.7120253164556962\n",
      "\n"
     ]
    },
    {
     "data": {
      "image/png": "[encoded data removed]",
      "text/plain": [
       "<matplotlib.figure.Figure at 0x7f61bca773c8>"
      ]
     },
     "metadata": {
      "image/png": {
       "height": 319,
       "width": 355
      }
     },
     "output_type": "display_data"
    }
   ],
   "source": [
    "\"\"\"\n",
    "DON'T MODIFY ANYTHING IN THIS CELL\n",
    "\"\"\"\n",
    "%matplotlib inline\n",
    "%config InlineBackend.figure_format = 'retina'\n",
    "\n",
    "import tensorflow as tf\n",
    "import pickle\n",
    "import helper\n",
    "import random\n",
    "\n",
    "# Set batch size if not already set\n",
    "try:\n",
    "    if batch_size:\n",
    "        pass\n",
    "except NameError:\n",
    "    batch_size = 64\n",
    "\n",
    "save_model_path = './image_classification'\n",
    "n_samples = 4\n",
    "top_n_predictions = 3\n",
    "\n",
    "def test_model():\n",
    "    \"\"\"\n",
    "    Test the saved model against the test dataset\n",
    "    \"\"\"\n",
    "\n",
    "    test_features, test_labels = pickle.load(open('preprocess_training.p', mode='rb'))\n",
    "    loaded_graph = tf.Graph()\n",
    "\n",
    "    with tf.Session(graph=loaded_graph) as sess:\n",
    "        # Load model\n",
    "        loader = tf.train.import_meta_graph(save_model_path + '.meta')\n",
    "        loader.restore(sess, save_model_path)\n",
    "\n",
    "        # Get Tensors from loaded model\n",
    "        loaded_x = loaded_graph.get_tensor_by_name('x:0')\n",
    "        loaded_y = loaded_graph.get_tensor_by_name('y:0')\n",
    "        loaded_keep_prob = loaded_graph.get_tensor_by_name('keep_prob:0')\n",
    "        loaded_logits = loaded_graph.get_tensor_by_name('logits:0')\n",
    "        loaded_acc = loaded_graph.get_tensor_by_name('accuracy:0')\n",
    "        \n",
    "        # Get accuracy in batches for memory limitations\n",
    "        test_batch_acc_total = 0\n",
    "        test_batch_count = 0\n",
    "        \n",
    "        for train_feature_batch, train_label_batch in helper.batch_features_labels(test_features, test_labels, batch_size):\n",
    "            test_batch_acc_total += sess.run(\n",
    "                loaded_acc,\n",
    "                feed_dict={loaded_x: train_feature_batch, loaded_y: train_label_batch, loaded_keep_prob: 1.0})\n",
    "            test_batch_count += 1\n",
    "\n",
    "        print('Testing Accuracy: {}\\n'.format(test_batch_acc_total/test_batch_count))\n",
    "\n",
    "        # Print Random Samples\n",
    "        random_test_features, random_test_labels = tuple(zip(*random.sample(list(zip(test_features, test_labels)), n_samples)))\n",
    "        random_test_predictions = sess.run(\n",
    "            tf.nn.top_k(tf.nn.softmax(loaded_logits), top_n_predictions),\n",
    "            feed_dict={loaded_x: random_test_features, loaded_y: random_test_labels, loaded_keep_prob: 1.0})\n",
    "        helper.display_image_predictions(random_test_features, random_test_labels, random_test_predictions)\n",
    "\n",
    "\n",
    "test_model()"
   ]
  },
  {
   "cell_type": "markdown",
   "metadata": {
    "deletable": true,
    "editable": true
   },
   "source": [
    "## Why 50-70% Accuracy?\n",
    "You might be wondering why you can't get an accuracy any higher. First things first, 50% isn't bad for a simple CNN.  Pure guessing would get you 10% accuracy. However, you might notice people are getting scores [well above 70%](http://rodrigob.github.io/are_we_there_yet/build/classification_datasets_results.html#43494641522d3130).  That's because we haven't taught you all there is to know about neural networks. We still need to cover a few more techniques.\n",
    "## Submitting This Project\n",
    "When submitting this project, make sure to run all the cells before saving the notebook.  Save the notebook file as \"dlnd_image_classification.ipynb\" and save it as a HTML file under \"File\" -> \"Download as\".  Include the \"helper.py\" and \"problem_unittests.py\" files in your submission."
   ]
  }
 ],
 "metadata": {
  "kernelspec": {
   "display_name": "Python 3",
   "language": "python",
   "name": "python3"
  },
  "language_info": {
   "codemirror_mode": {
    "name": "ipython",
    "version": 3
   },
   "file_extension": ".py",
   "mimetype": "text/x-python",
   "name": "python",
   "nbconvert_exporter": "python",
   "pygments_lexer": "ipython3",
   "version": "3.5.3"
  }
 },
 "nbformat": 4,
 "nbformat_minor": 0
}
